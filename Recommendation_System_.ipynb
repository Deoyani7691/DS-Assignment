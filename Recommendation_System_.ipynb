{
  "cells": [
    {
      "cell_type": "code",
      "execution_count": null,
      "id": "a60d3376-9f32-4807-aaff-15479f09a91c",
      "metadata": {
        "id": "a60d3376-9f32-4807-aaff-15479f09a91c",
        "outputId": "645853b7-66fc-4a79-b308-dbe1ddbf49a7"
      },
      "outputs": [
        {
          "data": {
            "text/html": [
              "<div>\n",
              "<style scoped>\n",
              "    .dataframe tbody tr th:only-of-type {\n",
              "        vertical-align: middle;\n",
              "    }\n",
              "\n",
              "    .dataframe tbody tr th {\n",
              "        vertical-align: top;\n",
              "    }\n",
              "\n",
              "    .dataframe thead th {\n",
              "        text-align: right;\n",
              "    }\n",
              "</style>\n",
              "<table border=\"1\" class=\"dataframe\">\n",
              "  <thead>\n",
              "    <tr style=\"text-align: right;\">\n",
              "      <th></th>\n",
              "      <th>anime_id</th>\n",
              "      <th>name</th>\n",
              "      <th>genre</th>\n",
              "      <th>type</th>\n",
              "      <th>episodes</th>\n",
              "      <th>rating</th>\n",
              "      <th>members</th>\n",
              "    </tr>\n",
              "  </thead>\n",
              "  <tbody>\n",
              "    <tr>\n",
              "      <th>0</th>\n",
              "      <td>32281</td>\n",
              "      <td>Kimi no Na wa.</td>\n",
              "      <td>Drama, Romance, School, Supernatural</td>\n",
              "      <td>Movie</td>\n",
              "      <td>1</td>\n",
              "      <td>9.37</td>\n",
              "      <td>200630</td>\n",
              "    </tr>\n",
              "    <tr>\n",
              "      <th>1</th>\n",
              "      <td>5114</td>\n",
              "      <td>Fullmetal Alchemist: Brotherhood</td>\n",
              "      <td>Action, Adventure, Drama, Fantasy, Magic, Mili...</td>\n",
              "      <td>TV</td>\n",
              "      <td>64</td>\n",
              "      <td>9.26</td>\n",
              "      <td>793665</td>\n",
              "    </tr>\n",
              "    <tr>\n",
              "      <th>2</th>\n",
              "      <td>28977</td>\n",
              "      <td>Gintama°</td>\n",
              "      <td>Action, Comedy, Historical, Parody, Samurai, S...</td>\n",
              "      <td>TV</td>\n",
              "      <td>51</td>\n",
              "      <td>9.25</td>\n",
              "      <td>114262</td>\n",
              "    </tr>\n",
              "    <tr>\n",
              "      <th>3</th>\n",
              "      <td>9253</td>\n",
              "      <td>Steins;Gate</td>\n",
              "      <td>Sci-Fi, Thriller</td>\n",
              "      <td>TV</td>\n",
              "      <td>24</td>\n",
              "      <td>9.17</td>\n",
              "      <td>673572</td>\n",
              "    </tr>\n",
              "    <tr>\n",
              "      <th>4</th>\n",
              "      <td>9969</td>\n",
              "      <td>Gintama&amp;#039;</td>\n",
              "      <td>Action, Comedy, Historical, Parody, Samurai, S...</td>\n",
              "      <td>TV</td>\n",
              "      <td>51</td>\n",
              "      <td>9.16</td>\n",
              "      <td>151266</td>\n",
              "    </tr>\n",
              "    <tr>\n",
              "      <th>...</th>\n",
              "      <td>...</td>\n",
              "      <td>...</td>\n",
              "      <td>...</td>\n",
              "      <td>...</td>\n",
              "      <td>...</td>\n",
              "      <td>...</td>\n",
              "      <td>...</td>\n",
              "    </tr>\n",
              "    <tr>\n",
              "      <th>12289</th>\n",
              "      <td>9316</td>\n",
              "      <td>Toushindai My Lover: Minami tai Mecha-Minami</td>\n",
              "      <td>Hentai</td>\n",
              "      <td>OVA</td>\n",
              "      <td>1</td>\n",
              "      <td>4.15</td>\n",
              "      <td>211</td>\n",
              "    </tr>\n",
              "    <tr>\n",
              "      <th>12290</th>\n",
              "      <td>5543</td>\n",
              "      <td>Under World</td>\n",
              "      <td>Hentai</td>\n",
              "      <td>OVA</td>\n",
              "      <td>1</td>\n",
              "      <td>4.28</td>\n",
              "      <td>183</td>\n",
              "    </tr>\n",
              "    <tr>\n",
              "      <th>12291</th>\n",
              "      <td>5621</td>\n",
              "      <td>Violence Gekiga David no Hoshi</td>\n",
              "      <td>Hentai</td>\n",
              "      <td>OVA</td>\n",
              "      <td>4</td>\n",
              "      <td>4.88</td>\n",
              "      <td>219</td>\n",
              "    </tr>\n",
              "    <tr>\n",
              "      <th>12292</th>\n",
              "      <td>6133</td>\n",
              "      <td>Violence Gekiga Shin David no Hoshi: Inma Dens...</td>\n",
              "      <td>Hentai</td>\n",
              "      <td>OVA</td>\n",
              "      <td>1</td>\n",
              "      <td>4.98</td>\n",
              "      <td>175</td>\n",
              "    </tr>\n",
              "    <tr>\n",
              "      <th>12293</th>\n",
              "      <td>26081</td>\n",
              "      <td>Yasuji no Pornorama: Yacchimae!!</td>\n",
              "      <td>Hentai</td>\n",
              "      <td>Movie</td>\n",
              "      <td>1</td>\n",
              "      <td>5.46</td>\n",
              "      <td>142</td>\n",
              "    </tr>\n",
              "  </tbody>\n",
              "</table>\n",
              "<p>12294 rows × 7 columns</p>\n",
              "</div>"
            ],
            "text/plain": [
              "       anime_id                                               name  \\\n",
              "0         32281                                     Kimi no Na wa.   \n",
              "1          5114                   Fullmetal Alchemist: Brotherhood   \n",
              "2         28977                                           Gintama°   \n",
              "3          9253                                        Steins;Gate   \n",
              "4          9969                                      Gintama&#039;   \n",
              "...         ...                                                ...   \n",
              "12289      9316       Toushindai My Lover: Minami tai Mecha-Minami   \n",
              "12290      5543                                        Under World   \n",
              "12291      5621                     Violence Gekiga David no Hoshi   \n",
              "12292      6133  Violence Gekiga Shin David no Hoshi: Inma Dens...   \n",
              "12293     26081                   Yasuji no Pornorama: Yacchimae!!   \n",
              "\n",
              "                                                   genre   type episodes  \\\n",
              "0                   Drama, Romance, School, Supernatural  Movie        1   \n",
              "1      Action, Adventure, Drama, Fantasy, Magic, Mili...     TV       64   \n",
              "2      Action, Comedy, Historical, Parody, Samurai, S...     TV       51   \n",
              "3                                       Sci-Fi, Thriller     TV       24   \n",
              "4      Action, Comedy, Historical, Parody, Samurai, S...     TV       51   \n",
              "...                                                  ...    ...      ...   \n",
              "12289                                             Hentai    OVA        1   \n",
              "12290                                             Hentai    OVA        1   \n",
              "12291                                             Hentai    OVA        4   \n",
              "12292                                             Hentai    OVA        1   \n",
              "12293                                             Hentai  Movie        1   \n",
              "\n",
              "       rating  members  \n",
              "0        9.37   200630  \n",
              "1        9.26   793665  \n",
              "2        9.25   114262  \n",
              "3        9.17   673572  \n",
              "4        9.16   151266  \n",
              "...       ...      ...  \n",
              "12289    4.15      211  \n",
              "12290    4.28      183  \n",
              "12291    4.88      219  \n",
              "12292    4.98      175  \n",
              "12293    5.46      142  \n",
              "\n",
              "[12294 rows x 7 columns]"
            ]
          },
          "execution_count": 1,
          "metadata": {},
          "output_type": "execute_result"
        }
      ],
      "source": [
        "import pandas as pd\n",
        "df = pd.read_csv(\"anime.csv\")\n",
        "df"
      ]
    },
    {
      "cell_type": "code",
      "execution_count": null,
      "id": "baa2cd2f-92f7-4475-8973-78898f699456",
      "metadata": {
        "id": "baa2cd2f-92f7-4475-8973-78898f699456",
        "outputId": "e1a280ba-ba88-4c1f-8b7c-b08fc9801ee3"
      },
      "outputs": [
        {
          "data": {
            "text/plain": [
              "anime_id      0\n",
              "name          0\n",
              "genre        62\n",
              "type         25\n",
              "episodes      0\n",
              "rating      230\n",
              "members       0\n",
              "dtype: int64"
            ]
          },
          "execution_count": 2,
          "metadata": {},
          "output_type": "execute_result"
        }
      ],
      "source": [
        "missing_values = df.isnull().sum()\n",
        "missing_values"
      ]
    },
    {
      "cell_type": "code",
      "execution_count": null,
      "id": "5b7fac4b-c64b-4edb-a7ee-8d1f2502634c",
      "metadata": {
        "id": "5b7fac4b-c64b-4edb-a7ee-8d1f2502634c"
      },
      "outputs": [],
      "source": [
        "# Filling of missing values\n",
        "# non-numeric = unknown & numeric values = avg values\n",
        "\n",
        "df['genre'].fillna('Unknown', inplace=True)\n",
        "df['type'].fillna('Unknown', inplace=True)\n",
        "\n",
        "avg_rating = df[\"rating\"].mean()\n",
        "df['rating'].fillna(avg_rating, inplace=True)\n"
      ]
    },
    {
      "cell_type": "code",
      "execution_count": null,
      "id": "0d9f2a42-0be0-40b7-a78f-120faccd3098",
      "metadata": {
        "id": "0d9f2a42-0be0-40b7-a78f-120faccd3098",
        "outputId": "17c2eb79-a809-4d0b-86bf-6d11a3ad344b"
      },
      "outputs": [
        {
          "data": {
            "text/plain": [
              "anime_id    0\n",
              "name        0\n",
              "genre       0\n",
              "type        0\n",
              "episodes    0\n",
              "rating      0\n",
              "members     0\n",
              "dtype: int64"
            ]
          },
          "execution_count": 5,
          "metadata": {},
          "output_type": "execute_result"
        }
      ],
      "source": [
        "# verification of missing values\n",
        "missing_values_after = df.isnull().sum()\n",
        "missing_values_after"
      ]
    },
    {
      "cell_type": "code",
      "execution_count": null,
      "id": "bec28e00-84b5-4600-bb50-ef271ce28b15",
      "metadata": {
        "id": "bec28e00-84b5-4600-bb50-ef271ce28b15",
        "outputId": "18e7bfb7-3cfc-4aad-d6ea-942c5ae7c5d6"
      },
      "outputs": [
        {
          "data": {
            "text/html": [
              "<div>\n",
              "<style scoped>\n",
              "    .dataframe tbody tr th:only-of-type {\n",
              "        vertical-align: middle;\n",
              "    }\n",
              "\n",
              "    .dataframe tbody tr th {\n",
              "        vertical-align: top;\n",
              "    }\n",
              "\n",
              "    .dataframe thead th {\n",
              "        text-align: right;\n",
              "    }\n",
              "</style>\n",
              "<table border=\"1\" class=\"dataframe\">\n",
              "  <thead>\n",
              "    <tr style=\"text-align: right;\">\n",
              "      <th></th>\n",
              "      <th>Action</th>\n",
              "      <th>Adventure</th>\n",
              "      <th>Cars</th>\n",
              "      <th>Comedy</th>\n",
              "      <th>Dementia</th>\n",
              "      <th>Demons</th>\n",
              "      <th>Drama</th>\n",
              "      <th>Ecchi</th>\n",
              "      <th>Fantasy</th>\n",
              "      <th>Game</th>\n",
              "      <th>...</th>\n",
              "      <th>Space</th>\n",
              "      <th>Sports</th>\n",
              "      <th>Super Power</th>\n",
              "      <th>Supernatural</th>\n",
              "      <th>Thriller</th>\n",
              "      <th>Unknown</th>\n",
              "      <th>Vampire</th>\n",
              "      <th>Yaoi</th>\n",
              "      <th>Yuri</th>\n",
              "      <th>rating_normalized</th>\n",
              "    </tr>\n",
              "  </thead>\n",
              "  <tbody>\n",
              "    <tr>\n",
              "      <th>0</th>\n",
              "      <td>0.0</td>\n",
              "      <td>0.0</td>\n",
              "      <td>0.0</td>\n",
              "      <td>0.0</td>\n",
              "      <td>0.0</td>\n",
              "      <td>0.0</td>\n",
              "      <td>1.0</td>\n",
              "      <td>0.0</td>\n",
              "      <td>0.0</td>\n",
              "      <td>0.0</td>\n",
              "      <td>...</td>\n",
              "      <td>0.0</td>\n",
              "      <td>0.0</td>\n",
              "      <td>0.0</td>\n",
              "      <td>1.0</td>\n",
              "      <td>0.0</td>\n",
              "      <td>0.0</td>\n",
              "      <td>0.0</td>\n",
              "      <td>0.0</td>\n",
              "      <td>0.0</td>\n",
              "      <td>NaN</td>\n",
              "    </tr>\n",
              "    <tr>\n",
              "      <th>1</th>\n",
              "      <td>1.0</td>\n",
              "      <td>1.0</td>\n",
              "      <td>0.0</td>\n",
              "      <td>0.0</td>\n",
              "      <td>0.0</td>\n",
              "      <td>0.0</td>\n",
              "      <td>1.0</td>\n",
              "      <td>0.0</td>\n",
              "      <td>1.0</td>\n",
              "      <td>0.0</td>\n",
              "      <td>...</td>\n",
              "      <td>0.0</td>\n",
              "      <td>0.0</td>\n",
              "      <td>0.0</td>\n",
              "      <td>0.0</td>\n",
              "      <td>0.0</td>\n",
              "      <td>0.0</td>\n",
              "      <td>0.0</td>\n",
              "      <td>0.0</td>\n",
              "      <td>0.0</td>\n",
              "      <td>NaN</td>\n",
              "    </tr>\n",
              "    <tr>\n",
              "      <th>2</th>\n",
              "      <td>1.0</td>\n",
              "      <td>0.0</td>\n",
              "      <td>0.0</td>\n",
              "      <td>1.0</td>\n",
              "      <td>0.0</td>\n",
              "      <td>0.0</td>\n",
              "      <td>0.0</td>\n",
              "      <td>0.0</td>\n",
              "      <td>0.0</td>\n",
              "      <td>0.0</td>\n",
              "      <td>...</td>\n",
              "      <td>0.0</td>\n",
              "      <td>0.0</td>\n",
              "      <td>0.0</td>\n",
              "      <td>0.0</td>\n",
              "      <td>0.0</td>\n",
              "      <td>0.0</td>\n",
              "      <td>0.0</td>\n",
              "      <td>0.0</td>\n",
              "      <td>0.0</td>\n",
              "      <td>NaN</td>\n",
              "    </tr>\n",
              "    <tr>\n",
              "      <th>3</th>\n",
              "      <td>0.0</td>\n",
              "      <td>0.0</td>\n",
              "      <td>0.0</td>\n",
              "      <td>0.0</td>\n",
              "      <td>0.0</td>\n",
              "      <td>0.0</td>\n",
              "      <td>0.0</td>\n",
              "      <td>0.0</td>\n",
              "      <td>0.0</td>\n",
              "      <td>0.0</td>\n",
              "      <td>...</td>\n",
              "      <td>0.0</td>\n",
              "      <td>0.0</td>\n",
              "      <td>0.0</td>\n",
              "      <td>0.0</td>\n",
              "      <td>1.0</td>\n",
              "      <td>0.0</td>\n",
              "      <td>0.0</td>\n",
              "      <td>0.0</td>\n",
              "      <td>0.0</td>\n",
              "      <td>NaN</td>\n",
              "    </tr>\n",
              "    <tr>\n",
              "      <th>4</th>\n",
              "      <td>1.0</td>\n",
              "      <td>0.0</td>\n",
              "      <td>0.0</td>\n",
              "      <td>1.0</td>\n",
              "      <td>0.0</td>\n",
              "      <td>0.0</td>\n",
              "      <td>0.0</td>\n",
              "      <td>0.0</td>\n",
              "      <td>0.0</td>\n",
              "      <td>0.0</td>\n",
              "      <td>...</td>\n",
              "      <td>0.0</td>\n",
              "      <td>0.0</td>\n",
              "      <td>0.0</td>\n",
              "      <td>0.0</td>\n",
              "      <td>0.0</td>\n",
              "      <td>0.0</td>\n",
              "      <td>0.0</td>\n",
              "      <td>0.0</td>\n",
              "      <td>0.0</td>\n",
              "      <td>NaN</td>\n",
              "    </tr>\n",
              "  </tbody>\n",
              "</table>\n",
              "<p>5 rows × 45 columns</p>\n",
              "</div>"
            ],
            "text/plain": [
              "   Action  Adventure  Cars  Comedy  Dementia  Demons  Drama  Ecchi  Fantasy  \\\n",
              "0     0.0        0.0   0.0     0.0       0.0     0.0    1.0    0.0      0.0   \n",
              "1     1.0        1.0   0.0     0.0       0.0     0.0    1.0    0.0      1.0   \n",
              "2     1.0        0.0   0.0     1.0       0.0     0.0    0.0    0.0      0.0   \n",
              "3     0.0        0.0   0.0     0.0       0.0     0.0    0.0    0.0      0.0   \n",
              "4     1.0        0.0   0.0     1.0       0.0     0.0    0.0    0.0      0.0   \n",
              "\n",
              "   Game  ...  Space  Sports  Super Power  Supernatural  Thriller  Unknown  \\\n",
              "0   0.0  ...    0.0     0.0          0.0           1.0       0.0      0.0   \n",
              "1   0.0  ...    0.0     0.0          0.0           0.0       0.0      0.0   \n",
              "2   0.0  ...    0.0     0.0          0.0           0.0       0.0      0.0   \n",
              "3   0.0  ...    0.0     0.0          0.0           0.0       1.0      0.0   \n",
              "4   0.0  ...    0.0     0.0          0.0           0.0       0.0      0.0   \n",
              "\n",
              "   Vampire  Yaoi  Yuri  rating_normalized  \n",
              "0      0.0   0.0   0.0                NaN  \n",
              "1      0.0   0.0   0.0                NaN  \n",
              "2      0.0   0.0   0.0                NaN  \n",
              "3      0.0   0.0   0.0                NaN  \n",
              "4      0.0   0.0   0.0                NaN  \n",
              "\n",
              "[5 rows x 45 columns]"
            ]
          },
          "execution_count": 16,
          "metadata": {},
          "output_type": "execute_result"
        }
      ],
      "source": [
        "#Normalisation of rating and converting catagorical numric (genre)\n",
        "from sklearn.preprocessing import OneHotEncoder\n",
        "from sklearn.preprocessing import StandardScaler\n",
        "\n",
        "genre_encoded = df['genre'].str.get_dummies(sep=', ')\n",
        "\n",
        "scaler = StandardScaler()\n",
        "rating_normalized = scaler.fit_transform(df[['rating']])\n",
        "\n",
        "# Combine into a single DataFrame\n",
        "features = pd.concat([genre_encoded, pd.DataFrame(rating_normalized, columns=['rating_normalized'])])\n",
        "features.head()"
      ]
    },
    {
      "cell_type": "code",
      "execution_count": null,
      "id": "7e9fc502-9c51-4c36-a3ba-80a4976d5072",
      "metadata": {
        "id": "7e9fc502-9c51-4c36-a3ba-80a4976d5072"
      },
      "outputs": [],
      "source": [
        "genre_encoded = df['genre'].str.get_dummies(sep=', ')"
      ]
    },
    {
      "cell_type": "code",
      "execution_count": null,
      "id": "910cafd3-6f64-4053-a1bb-f8364477e14d",
      "metadata": {
        "id": "910cafd3-6f64-4053-a1bb-f8364477e14d"
      },
      "outputs": [],
      "source": [
        "# Normalising of rating.\n",
        "from sklearn.preprocessing import StandardScaler\n",
        "scaler = StandardScaler()\n",
        "rating_normalized = scaler.fit_transform(df[['rating']])"
      ]
    },
    {
      "cell_type": "code",
      "execution_count": null,
      "id": "9fa99790-bbe7-4154-84af-43a8b03f0392",
      "metadata": {
        "id": "9fa99790-bbe7-4154-84af-43a8b03f0392"
      },
      "outputs": [],
      "source": [
        "# combining features\n",
        "features = pd.concat([genre_encoded, pd.DataFrame(rating_normalized, columns=['rating_normalized'])], axis=1)"
      ]
    },
    {
      "cell_type": "code",
      "execution_count": null,
      "id": "86b0ab89-a20a-4e06-ba4d-fdbd23a9c670",
      "metadata": {
        "id": "86b0ab89-a20a-4e06-ba4d-fdbd23a9c670"
      },
      "outputs": [],
      "source": [
        "# Computing Cosine Similarity\n",
        "from sklearn.metrics.pairwise import cosine_similarity\n",
        "similarity_matrix = cosine_similarity(features)"
      ]
    },
    {
      "cell_type": "code",
      "execution_count": null,
      "id": "d64fdad6-731c-497a-af12-e4159e43957d",
      "metadata": {
        "id": "d64fdad6-731c-497a-af12-e4159e43957d"
      },
      "outputs": [],
      "source": [
        "# Recommendation Function\n",
        "def recommend_anime(anime_title, similarity_matrix, df, top_n=10):\n",
        "    anime_idx = df[df['name'] == anime_title].index[0]\n",
        "    similarity_scores = list(enumerate(similarity_matrix[anime_idx]))\n",
        "    similarity_scores = sorted(similarity_scores, key=lambda x: x[1], reverse=True)\n",
        "    similar_anime_indices = [i[0] for i in similarity_scores[1:top_n+1]]\n",
        "    return df['name'].iloc[similar_anime_indices]"
      ]
    },
    {
      "cell_type": "markdown",
      "id": "d1756869-f7d2-441c-bc82-bba65a50f97b",
      "metadata": {
        "id": "d1756869-f7d2-441c-bc82-bba65a50f97b"
      },
      "source": [
        "## Using The Function to recommend anime."
      ]
    },
    {
      "cell_type": "code",
      "execution_count": null,
      "id": "e27ba8da-28b3-4543-a35b-c5e0cb8384bf",
      "metadata": {
        "id": "e27ba8da-28b3-4543-a35b-c5e0cb8384bf",
        "outputId": "24f52da6-1337-4721-f308-90e9db5d83ea"
      },
      "outputs": [
        {
          "name": "stdout",
          "output_type": "stream",
          "text": [
            "Recommendations for 'Kimi no Na wa.':\n",
            "208                        Kokoro ga Sakebitagatterunda.\n",
            "504    Clannad: After Story - Mou Hitotsu no Sekai, K...\n",
            "60                                    Hotarubi no Mori e\n",
            "10                                  Clannad: After Story\n",
            "219    Yahari Ore no Seishun Love Comedy wa Machigatt...\n",
            "Name: name, dtype: object\n"
          ]
        }
      ],
      "source": [
        "recommendations = recommend_anime(\"Kimi no Na wa.\", similarity_matrix, df, top_n=5)\n",
        "print(\"Recommendations for 'Kimi no Na wa.':\")\n",
        "print(recommendations)"
      ]
    },
    {
      "cell_type": "code",
      "execution_count": null,
      "id": "0e46c821-502e-43b4-b870-bab2f7087ed8",
      "metadata": {
        "id": "0e46c821-502e-43b4-b870-bab2f7087ed8",
        "outputId": "23f86c71-1c1c-4328-e245-5ac24b32b131"
      },
      "outputs": [
        {
          "name": "stdout",
          "output_type": "stream",
          "text": [
            "Recommendations for 'Under World':\n",
            "12287                          Tenshi no Habataki Jun\n",
            "12288                                The Satisfaction\n",
            "12260                         Hokenshitsu de Aimashou\n",
            "12289    Toushindai My Lover: Minami tai Mecha-Minami\n",
            "12267                                   Lovely Series\n",
            "Name: name, dtype: object\n"
          ]
        }
      ],
      "source": [
        "recommendations = recommend_anime(\"Under World\", similarity_matrix, df, top_n=5)\n",
        "print(\"Recommendations for 'Under World':\")\n",
        "print(recommendations)"
      ]
    },
    {
      "cell_type": "code",
      "execution_count": null,
      "id": "90836603-d7d0-44d3-b376-6dc3a91e3e17",
      "metadata": {
        "id": "90836603-d7d0-44d3-b376-6dc3a91e3e17"
      },
      "outputs": [],
      "source": []
    }
  ],
  "metadata": {
    "kernelspec": {
      "display_name": "Python 3 (ipykernel)",
      "language": "python",
      "name": "python3"
    },
    "language_info": {
      "codemirror_mode": {
        "name": "ipython",
        "version": 3
      },
      "file_extension": ".py",
      "mimetype": "text/x-python",
      "name": "python",
      "nbconvert_exporter": "python",
      "pygments_lexer": "ipython3",
      "version": "3.11.7"
    },
    "colab": {
      "provenance": []
    }
  },
  "nbformat": 4,
  "nbformat_minor": 5
}